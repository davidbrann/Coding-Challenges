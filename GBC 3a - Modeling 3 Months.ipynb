{
 "cells": [
  {
   "cell_type": "code",
   "execution_count": 1,
   "id": "efb991c1",
   "metadata": {},
   "outputs": [],
   "source": [
    "## for data\n",
    "import pandas as pd\n",
    "import numpy as np\n",
    "## for plotting\n",
    "import matplotlib.pyplot as plt\n",
    "import seaborn as sns\n",
    "## for statistical tests\n",
    "import scipy\n",
    "import statsmodels.formula.api as smf\n",
    "import statsmodels.api as sm\n",
    "## for machine learning\n",
    "from sklearn import model_selection, preprocessing, feature_selection, ensemble, linear_model, metrics, decomposition## for explainer\n",
    "from lime import lime_tabular"
   ]
  },
  {
   "cell_type": "code",
   "execution_count": 2,
   "id": "493138bf",
   "metadata": {},
   "outputs": [],
   "source": [
    "# Don't have any existing modeling code on hand to start from, so grabbing the basic components from this tutorial\n",
    "# https://towardsdatascience.com/machine-learning-with-python-regression-complete-tutorial-47268e546cea"
   ]
  },
  {
   "cell_type": "code",
   "execution_count": 3,
   "id": "4e055c78",
   "metadata": {
    "scrolled": true
   },
   "outputs": [],
   "source": [
    "analysis3M = pd.read_csv('GBC train 03M.csv')"
   ]
  },
  {
   "cell_type": "code",
   "execution_count": 4,
   "id": "dc799634",
   "metadata": {},
   "outputs": [
    {
     "data": {
      "text/html": [
       "<div>\n",
       "<style scoped>\n",
       "    .dataframe tbody tr th:only-of-type {\n",
       "        vertical-align: middle;\n",
       "    }\n",
       "\n",
       "    .dataframe tbody tr th {\n",
       "        vertical-align: top;\n",
       "    }\n",
       "\n",
       "    .dataframe thead th {\n",
       "        text-align: right;\n",
       "    }\n",
       "</style>\n",
       "<table border=\"1\" class=\"dataframe\">\n",
       "  <thead>\n",
       "    <tr style=\"text-align: right;\">\n",
       "      <th></th>\n",
       "      <th>Month</th>\n",
       "      <th>max_ratio</th>\n",
       "      <th>CLI</th>\n",
       "      <th>BCI</th>\n",
       "      <th>CCI</th>\n",
       "      <th>Employment Rate</th>\n",
       "      <th>CPI</th>\n",
       "      <th>LTI Rate</th>\n",
       "      <th>PPI</th>\n",
       "      <th>STI Rate</th>\n",
       "      <th>Unemployment Rate</th>\n",
       "      <th>TIME_ORIG</th>\n",
       "      <th>TIME+6M</th>\n",
       "      <th>TIME+9M</th>\n",
       "      <th>TIME+12M</th>\n",
       "    </tr>\n",
       "  </thead>\n",
       "  <tbody>\n",
       "    <tr>\n",
       "      <th>0</th>\n",
       "      <td>2016-01-01</td>\n",
       "      <td>4.573529</td>\n",
       "      <td>-0.49780</td>\n",
       "      <td>-0.93738</td>\n",
       "      <td>0.4333</td>\n",
       "      <td>-0.754</td>\n",
       "      <td>0.34640</td>\n",
       "      <td>2.07</td>\n",
       "      <td>-0.99703</td>\n",
       "      <td>0.25</td>\n",
       "      <td>5.0</td>\n",
       "      <td>2015-10-01</td>\n",
       "      <td>2016-04-01</td>\n",
       "      <td>2016-07-01</td>\n",
       "      <td>2016-10-01</td>\n",
       "    </tr>\n",
       "    <tr>\n",
       "      <th>1</th>\n",
       "      <td>2016-02-01</td>\n",
       "      <td>5.147059</td>\n",
       "      <td>-0.62164</td>\n",
       "      <td>-1.09824</td>\n",
       "      <td>0.5603</td>\n",
       "      <td>-0.537</td>\n",
       "      <td>0.13460</td>\n",
       "      <td>2.26</td>\n",
       "      <td>-1.42818</td>\n",
       "      <td>0.30</td>\n",
       "      <td>5.1</td>\n",
       "      <td>2015-11-01</td>\n",
       "      <td>2016-05-01</td>\n",
       "      <td>2016-08-01</td>\n",
       "      <td>2016-11-01</td>\n",
       "    </tr>\n",
       "    <tr>\n",
       "      <th>2</th>\n",
       "      <td>2016-03-01</td>\n",
       "      <td>5.036765</td>\n",
       "      <td>-0.73141</td>\n",
       "      <td>-1.15515</td>\n",
       "      <td>0.6660</td>\n",
       "      <td>0.128</td>\n",
       "      <td>-0.20758</td>\n",
       "      <td>2.24</td>\n",
       "      <td>-2.55996</td>\n",
       "      <td>0.54</td>\n",
       "      <td>5.0</td>\n",
       "      <td>2015-12-01</td>\n",
       "      <td>2016-06-01</td>\n",
       "      <td>2016-09-01</td>\n",
       "      <td>2016-12-01</td>\n",
       "    </tr>\n",
       "    <tr>\n",
       "      <th>3</th>\n",
       "      <td>2016-04-01</td>\n",
       "      <td>5.330882</td>\n",
       "      <td>-0.82484</td>\n",
       "      <td>-1.06475</td>\n",
       "      <td>0.6803</td>\n",
       "      <td>0.653</td>\n",
       "      <td>-0.04261</td>\n",
       "      <td>2.09</td>\n",
       "      <td>-3.15279</td>\n",
       "      <td>0.57</td>\n",
       "      <td>4.8</td>\n",
       "      <td>2016-01-01</td>\n",
       "      <td>2016-07-01</td>\n",
       "      <td>2016-10-01</td>\n",
       "      <td>2017-01-01</td>\n",
       "    </tr>\n",
       "    <tr>\n",
       "      <th>4</th>\n",
       "      <td>2016-05-01</td>\n",
       "      <td>4.926471</td>\n",
       "      <td>-0.88707</td>\n",
       "      <td>-0.83865</td>\n",
       "      <td>0.6396</td>\n",
       "      <td>0.939</td>\n",
       "      <td>0.03970</td>\n",
       "      <td>1.78</td>\n",
       "      <td>-3.69173</td>\n",
       "      <td>0.54</td>\n",
       "      <td>4.9</td>\n",
       "      <td>2016-02-01</td>\n",
       "      <td>2016-08-01</td>\n",
       "      <td>2016-11-01</td>\n",
       "      <td>2017-02-01</td>\n",
       "    </tr>\n",
       "  </tbody>\n",
       "</table>\n",
       "</div>"
      ],
      "text/plain": [
       "        Month  max_ratio      CLI      BCI     CCI  Employment Rate      CPI  \\\n",
       "0  2016-01-01   4.573529 -0.49780 -0.93738  0.4333           -0.754  0.34640   \n",
       "1  2016-02-01   5.147059 -0.62164 -1.09824  0.5603           -0.537  0.13460   \n",
       "2  2016-03-01   5.036765 -0.73141 -1.15515  0.6660            0.128 -0.20758   \n",
       "3  2016-04-01   5.330882 -0.82484 -1.06475  0.6803            0.653 -0.04261   \n",
       "4  2016-05-01   4.926471 -0.88707 -0.83865  0.6396            0.939  0.03970   \n",
       "\n",
       "   LTI Rate      PPI  STI Rate  Unemployment Rate   TIME_ORIG     TIME+6M  \\\n",
       "0      2.07 -0.99703      0.25                5.0  2015-10-01  2016-04-01   \n",
       "1      2.26 -1.42818      0.30                5.1  2015-11-01  2016-05-01   \n",
       "2      2.24 -2.55996      0.54                5.0  2015-12-01  2016-06-01   \n",
       "3      2.09 -3.15279      0.57                4.8  2016-01-01  2016-07-01   \n",
       "4      1.78 -3.69173      0.54                4.9  2016-02-01  2016-08-01   \n",
       "\n",
       "      TIME+9M    TIME+12M  \n",
       "0  2016-07-01  2016-10-01  \n",
       "1  2016-08-01  2016-11-01  \n",
       "2  2016-09-01  2016-12-01  \n",
       "3  2016-10-01  2017-01-01  \n",
       "4  2016-11-01  2017-02-01  "
      ]
     },
     "execution_count": 4,
     "metadata": {},
     "output_type": "execute_result"
    }
   ],
   "source": [
    "analysis3M.head()"
   ]
  },
  {
   "cell_type": "code",
   "execution_count": 5,
   "id": "86837987",
   "metadata": {},
   "outputs": [
    {
     "data": {
      "text/html": [
       "<div>\n",
       "<style scoped>\n",
       "    .dataframe tbody tr th:only-of-type {\n",
       "        vertical-align: middle;\n",
       "    }\n",
       "\n",
       "    .dataframe tbody tr th {\n",
       "        vertical-align: top;\n",
       "    }\n",
       "\n",
       "    .dataframe thead th {\n",
       "        text-align: right;\n",
       "    }\n",
       "</style>\n",
       "<table border=\"1\" class=\"dataframe\">\n",
       "  <thead>\n",
       "    <tr style=\"text-align: right;\">\n",
       "      <th></th>\n",
       "      <th>max_ratio</th>\n",
       "      <th>CLI</th>\n",
       "      <th>BCI</th>\n",
       "      <th>CCI</th>\n",
       "      <th>Employment Rate</th>\n",
       "      <th>CPI</th>\n",
       "      <th>LTI Rate</th>\n",
       "      <th>PPI</th>\n",
       "      <th>STI Rate</th>\n",
       "      <th>Unemployment Rate</th>\n",
       "    </tr>\n",
       "    <tr>\n",
       "      <th>Month</th>\n",
       "      <th></th>\n",
       "      <th></th>\n",
       "      <th></th>\n",
       "      <th></th>\n",
       "      <th></th>\n",
       "      <th></th>\n",
       "      <th></th>\n",
       "      <th></th>\n",
       "      <th></th>\n",
       "      <th></th>\n",
       "    </tr>\n",
       "  </thead>\n",
       "  <tbody>\n",
       "    <tr>\n",
       "      <th>2016-01-01</th>\n",
       "      <td>4.573529</td>\n",
       "      <td>-0.49780</td>\n",
       "      <td>-0.93738</td>\n",
       "      <td>0.4333</td>\n",
       "      <td>-0.754</td>\n",
       "      <td>0.34640</td>\n",
       "      <td>2.07</td>\n",
       "      <td>-0.99703</td>\n",
       "      <td>0.25</td>\n",
       "      <td>5.0</td>\n",
       "    </tr>\n",
       "    <tr>\n",
       "      <th>2016-02-01</th>\n",
       "      <td>5.147059</td>\n",
       "      <td>-0.62164</td>\n",
       "      <td>-1.09824</td>\n",
       "      <td>0.5603</td>\n",
       "      <td>-0.537</td>\n",
       "      <td>0.13460</td>\n",
       "      <td>2.26</td>\n",
       "      <td>-1.42818</td>\n",
       "      <td>0.30</td>\n",
       "      <td>5.1</td>\n",
       "    </tr>\n",
       "    <tr>\n",
       "      <th>2016-03-01</th>\n",
       "      <td>5.036765</td>\n",
       "      <td>-0.73141</td>\n",
       "      <td>-1.15515</td>\n",
       "      <td>0.6660</td>\n",
       "      <td>0.128</td>\n",
       "      <td>-0.20758</td>\n",
       "      <td>2.24</td>\n",
       "      <td>-2.55996</td>\n",
       "      <td>0.54</td>\n",
       "      <td>5.0</td>\n",
       "    </tr>\n",
       "    <tr>\n",
       "      <th>2016-04-01</th>\n",
       "      <td>5.330882</td>\n",
       "      <td>-0.82484</td>\n",
       "      <td>-1.06475</td>\n",
       "      <td>0.6803</td>\n",
       "      <td>0.653</td>\n",
       "      <td>-0.04261</td>\n",
       "      <td>2.09</td>\n",
       "      <td>-3.15279</td>\n",
       "      <td>0.57</td>\n",
       "      <td>4.8</td>\n",
       "    </tr>\n",
       "    <tr>\n",
       "      <th>2016-05-01</th>\n",
       "      <td>4.926471</td>\n",
       "      <td>-0.88707</td>\n",
       "      <td>-0.83865</td>\n",
       "      <td>0.6396</td>\n",
       "      <td>0.939</td>\n",
       "      <td>0.03970</td>\n",
       "      <td>1.78</td>\n",
       "      <td>-3.69173</td>\n",
       "      <td>0.54</td>\n",
       "      <td>4.9</td>\n",
       "    </tr>\n",
       "  </tbody>\n",
       "</table>\n",
       "</div>"
      ],
      "text/plain": [
       "            max_ratio      CLI      BCI     CCI  Employment Rate      CPI  \\\n",
       "Month                                                                       \n",
       "2016-01-01   4.573529 -0.49780 -0.93738  0.4333           -0.754  0.34640   \n",
       "2016-02-01   5.147059 -0.62164 -1.09824  0.5603           -0.537  0.13460   \n",
       "2016-03-01   5.036765 -0.73141 -1.15515  0.6660            0.128 -0.20758   \n",
       "2016-04-01   5.330882 -0.82484 -1.06475  0.6803            0.653 -0.04261   \n",
       "2016-05-01   4.926471 -0.88707 -0.83865  0.6396            0.939  0.03970   \n",
       "\n",
       "            LTI Rate      PPI  STI Rate  Unemployment Rate  \n",
       "Month                                                       \n",
       "2016-01-01      2.07 -0.99703      0.25                5.0  \n",
       "2016-02-01      2.26 -1.42818      0.30                5.1  \n",
       "2016-03-01      2.24 -2.55996      0.54                5.0  \n",
       "2016-04-01      2.09 -3.15279      0.57                4.8  \n",
       "2016-05-01      1.78 -3.69173      0.54                4.9  "
      ]
     },
     "execution_count": 5,
     "metadata": {},
     "output_type": "execute_result"
    }
   ],
   "source": [
    "# Get down to just the columns we need - this has extra Time Offset columns \n",
    "# analysis3M = analysis3M.loc[:, ['Month', 'max_ratio', 'CLI_0M', 'BCI_0M', 'CCI_0M', 'Employment Rate_0M', 'CPI_0M',\n",
    "#       'LTI Rate_0M', 'PPI_0M', 'STI Rate_0M', 'Unemployment Rate_0M']]\n",
    "\n",
    "analysis3M = analysis3M.loc[:, ['Month', 'max_ratio', 'CLI', 'BCI', 'CCI', 'Employment Rate', 'CPI',\n",
    "      'LTI Rate', 'PPI', 'STI Rate', 'Unemployment Rate']]\n",
    "\n",
    "analysis3M.set_index('Month', inplace = True)\n",
    "\n",
    "analysis3M.head()"
   ]
  },
  {
   "cell_type": "code",
   "execution_count": 6,
   "id": "34b0a51d",
   "metadata": {},
   "outputs": [
    {
     "name": "stdout",
     "output_type": "stream",
     "text": [
      "X_train shape: (38, 9) | X_test shape: (10, 9)\n",
      "y_train mean: 5.31 | y_test mean: 5.45\n",
      "10 features: ['CLI', 'BCI', 'CCI', 'Employment Rate', 'CPI', 'LTI Rate', 'PPI', 'STI Rate', 'Unemployment Rate']\n"
     ]
    }
   ],
   "source": [
    "## split data\n",
    "dtf_train, dtf_test = model_selection.train_test_split(analysis3M, \n",
    "                      test_size=0.2)\n",
    "\n",
    "## print info\n",
    "print(\"X_train shape:\", dtf_train.drop(\"max_ratio\",axis=1).shape, \"| X_test shape:\", dtf_test.drop(\"max_ratio\",axis=1).shape)\n",
    "print(\"y_train mean:\", round(np.mean(dtf_train[\"max_ratio\"]),2), \"| y_test mean:\", round(np.mean(dtf_test[\"max_ratio\"]),2))\n",
    "print(dtf_train.shape[1], \"features:\", dtf_train.drop(\"max_ratio\",axis=1).columns.to_list())"
   ]
  },
  {
   "cell_type": "code",
   "execution_count": 7,
   "id": "555f1439",
   "metadata": {},
   "outputs": [
    {
     "data": {
      "text/html": [
       "<div>\n",
       "<style scoped>\n",
       "    .dataframe tbody tr th:only-of-type {\n",
       "        vertical-align: middle;\n",
       "    }\n",
       "\n",
       "    .dataframe tbody tr th {\n",
       "        vertical-align: top;\n",
       "    }\n",
       "\n",
       "    .dataframe thead th {\n",
       "        text-align: right;\n",
       "    }\n",
       "</style>\n",
       "<table border=\"1\" class=\"dataframe\">\n",
       "  <thead>\n",
       "    <tr style=\"text-align: right;\">\n",
       "      <th></th>\n",
       "      <th>CLI</th>\n",
       "      <th>BCI</th>\n",
       "      <th>CCI</th>\n",
       "      <th>Employment Rate</th>\n",
       "      <th>CPI</th>\n",
       "      <th>LTI Rate</th>\n",
       "      <th>PPI</th>\n",
       "      <th>STI Rate</th>\n",
       "      <th>Unemployment Rate</th>\n",
       "      <th>max_ratio</th>\n",
       "    </tr>\n",
       "    <tr>\n",
       "      <th>Month</th>\n",
       "      <th></th>\n",
       "      <th></th>\n",
       "      <th></th>\n",
       "      <th></th>\n",
       "      <th></th>\n",
       "      <th></th>\n",
       "      <th></th>\n",
       "      <th></th>\n",
       "      <th></th>\n",
       "      <th></th>\n",
       "    </tr>\n",
       "  </thead>\n",
       "  <tbody>\n",
       "    <tr>\n",
       "      <th>2016-03-01</th>\n",
       "      <td>-0.501765</td>\n",
       "      <td>-0.918641</td>\n",
       "      <td>-0.773260</td>\n",
       "      <td>-0.801081</td>\n",
       "      <td>-0.797522</td>\n",
       "      <td>-0.080537</td>\n",
       "      <td>-0.561404</td>\n",
       "      <td>-0.477663</td>\n",
       "      <td>0.666667</td>\n",
       "      <td>-0.555556</td>\n",
       "    </tr>\n",
       "    <tr>\n",
       "      <th>2018-05-01</th>\n",
       "      <td>1.029954</td>\n",
       "      <td>0.595305</td>\n",
       "      <td>0.497999</td>\n",
       "      <td>0.405007</td>\n",
       "      <td>0.354840</td>\n",
       "      <td>0.751678</td>\n",
       "      <td>0.428855</td>\n",
       "      <td>0.374570</td>\n",
       "      <td>-0.256410</td>\n",
       "      <td>0.015873</td>\n",
       "    </tr>\n",
       "    <tr>\n",
       "      <th>2019-03-01</th>\n",
       "      <td>0.252297</td>\n",
       "      <td>0.146923</td>\n",
       "      <td>0.007443</td>\n",
       "      <td>0.759476</td>\n",
       "      <td>0.562084</td>\n",
       "      <td>0.711409</td>\n",
       "      <td>0.561409</td>\n",
       "      <td>1.000000</td>\n",
       "      <td>-0.461538</td>\n",
       "      <td>0.142857</td>\n",
       "    </tr>\n",
       "    <tr>\n",
       "      <th>2018-09-01</th>\n",
       "      <td>1.096555</td>\n",
       "      <td>0.542743</td>\n",
       "      <td>0.357840</td>\n",
       "      <td>0.516660</td>\n",
       "      <td>0.631954</td>\n",
       "      <td>0.818792</td>\n",
       "      <td>0.810921</td>\n",
       "      <td>0.656357</td>\n",
       "      <td>-0.358974</td>\n",
       "      <td>0.041270</td>\n",
       "    </tr>\n",
       "    <tr>\n",
       "      <th>2017-12-01</th>\n",
       "      <td>0.517066</td>\n",
       "      <td>0.554644</td>\n",
       "      <td>0.137350</td>\n",
       "      <td>0.176294</td>\n",
       "      <td>0.154059</td>\n",
       "      <td>-0.134228</td>\n",
       "      <td>0.124756</td>\n",
       "      <td>0.010309</td>\n",
       "      <td>-0.051282</td>\n",
       "      <td>-0.771429</td>\n",
       "    </tr>\n",
       "  </tbody>\n",
       "</table>\n",
       "</div>"
      ],
      "text/plain": [
       "                 CLI       BCI       CCI  Employment Rate       CPI  LTI Rate  \\\n",
       "Month                                                                           \n",
       "2016-03-01 -0.501765 -0.918641 -0.773260        -0.801081 -0.797522 -0.080537   \n",
       "2018-05-01  1.029954  0.595305  0.497999         0.405007  0.354840  0.751678   \n",
       "2019-03-01  0.252297  0.146923  0.007443         0.759476  0.562084  0.711409   \n",
       "2018-09-01  1.096555  0.542743  0.357840         0.516660  0.631954  0.818792   \n",
       "2017-12-01  0.517066  0.554644  0.137350         0.176294  0.154059 -0.134228   \n",
       "\n",
       "                 PPI  STI Rate  Unemployment Rate  max_ratio  \n",
       "Month                                                         \n",
       "2016-03-01 -0.561404 -0.477663           0.666667  -0.555556  \n",
       "2018-05-01  0.428855  0.374570          -0.256410   0.015873  \n",
       "2019-03-01  0.561409  1.000000          -0.461538   0.142857  \n",
       "2018-09-01  0.810921  0.656357          -0.358974   0.041270  \n",
       "2017-12-01  0.124756  0.010309          -0.051282  -0.771429  "
      ]
     },
     "execution_count": 7,
     "metadata": {},
     "output_type": "execute_result"
    }
   ],
   "source": [
    "## scale X\n",
    "scalerX = preprocessing.RobustScaler(quantile_range=(25.0, 75.0))\n",
    "X = scalerX.fit_transform(dtf_train.drop(\"max_ratio\", axis=1))\n",
    "\n",
    "dtf_scaled= pd.DataFrame(X, columns=dtf_train.drop(\"max_ratio\", \n",
    "                        axis=1).columns, index=dtf_train.index)  \n",
    "\n",
    "## scale max_ratio\n",
    "scalerY = preprocessing.RobustScaler(quantile_range=(25.0, 75.0))\n",
    "dtf_scaled['max_ratio'] = scalerY.fit_transform(\n",
    "                    dtf_train['max_ratio'].values.reshape(-1,1))\n",
    "\n",
    "dtf_scaled.head()"
   ]
  },
  {
   "cell_type": "code",
   "execution_count": 8,
   "id": "31e24105",
   "metadata": {},
   "outputs": [
    {
     "data": {
      "text/plain": [
       "<bound method RobustScaler.transform of RobustScaler()>"
      ]
     },
     "execution_count": 8,
     "metadata": {},
     "output_type": "execute_result"
    }
   ],
   "source": [
    "scalerY.transform"
   ]
  },
  {
   "cell_type": "code",
   "execution_count": 9,
   "id": "f204a889",
   "metadata": {},
   "outputs": [
    {
     "data": {
      "text/plain": [
       "<AxesSubplot:xlabel='selection', ylabel='features'>"
      ]
     },
     "execution_count": 9,
     "metadata": {},
     "output_type": "execute_result"
    },
    {
     "data": {
      "image/png": "[encoded data removed]",
      "text/plain": [
       "<Figure size 432x288 with 1 Axes>"
      ]
     },
     "metadata": {
      "needs_background": "light"
     },
     "output_type": "display_data"
    }
   ],
   "source": [
    "X = dtf_train.drop(\"max_ratio\", axis=1).values\n",
    "y = dtf_train[\"max_ratio\"].values\n",
    "feature_names = dtf_train.drop(\"max_ratio\", axis=1).columns\n",
    "\n",
    "## p-value\n",
    "selector = feature_selection.SelectKBest(score_func=  \n",
    "               feature_selection.f_regression, k=9).fit(X,y)\n",
    "pvalue_selected_features = feature_names[selector.get_support()]\n",
    "\n",
    "## regularization\n",
    "selector = feature_selection.SelectFromModel(estimator= \n",
    "              linear_model.Ridge(alpha=1.0, fit_intercept=True), \n",
    "                                 max_features=9).fit(X,y)\n",
    "regularization_selected_features = feature_names[selector.get_support()]\n",
    " \n",
    "## plot\n",
    "dtf_features = pd.DataFrame({\"features\":feature_names})\n",
    "dtf_features[\"p_value\"] = dtf_features[\"features\"].apply(lambda x: \"p_value\" if x in pvalue_selected_features else \"\")\n",
    "dtf_features[\"num1\"] = dtf_features[\"features\"].apply(lambda x: 1 if x in pvalue_selected_features else 0)\n",
    "dtf_features[\"regularization\"] = dtf_features[\"features\"].apply(lambda x: \"regularization\" if x in regularization_selected_features else \"\")\n",
    "dtf_features[\"num2\"] = dtf_features[\"features\"].apply(lambda x: 1 if x in regularization_selected_features else 0)\n",
    "dtf_features[\"method\"] = dtf_features[[\"p_value\",\"regularization\"]].apply(lambda x: (x[0]+\" \"+x[1]).strip(), axis=1)\n",
    "dtf_features[\"selection\"] = dtf_features[\"num1\"] + dtf_features[\"num2\"]\n",
    "dtf_features[\"method\"] = dtf_features[\"method\"].apply(lambda x: \"both\" if len(x.split()) == 2 else x)\n",
    "\n",
    "sns.barplot(y=\"features\", x=\"selection\", hue=\"method\", \n",
    "            data=dtf_features.sort_values(\"selection\", ascending=False), dodge=False)"
   ]
  },
  {
   "cell_type": "code",
   "execution_count": 10,
   "id": "66293467",
   "metadata": {},
   "outputs": [
    {
     "data": {
      "image/png": "[encoded data removed]",
      "text/plain": [
       "<Figure size 432x288 with 2 Axes>"
      ]
     },
     "metadata": {
      "needs_background": "light"
     },
     "output_type": "display_data"
    }
   ],
   "source": [
    "X = dtf_train.drop(\"max_ratio\", axis=1).values\n",
    "y = dtf_train[\"max_ratio\"].values\n",
    "feature_names = dtf_train.drop(\"max_ratio\", axis=1).columns.tolist()\n",
    "\n",
    "## call model\n",
    "model = ensemble.GradientBoostingRegressor()\n",
    "\n",
    "## Importance\n",
    "model.fit(X,y)\n",
    "importances = model.feature_importances_\n",
    "\n",
    "## Put in a pandas dtf\n",
    "dtf_importances = pd.DataFrame({\"IMPORTANCE\":importances, \n",
    "            \"VARIABLE\":feature_names}).sort_values(\"IMPORTANCE\", \n",
    "            ascending=False)\n",
    "dtf_importances['cumsum'] = dtf_importances['IMPORTANCE'].cumsum(axis=0)\n",
    "dtf_importances = dtf_importances.set_index(\"VARIABLE\")\n",
    "    \n",
    "## Plot\n",
    "fig, ax = plt.subplots(nrows=1, ncols=2, sharex=False, sharey=False)\n",
    "fig.suptitle(\"Features Importance\", fontsize=20)\n",
    "ax[0].title.set_text('variables')\n",
    "\n",
    "dtf_importances[[\"IMPORTANCE\"]].sort_values(by=\"IMPORTANCE\").plot(\n",
    "                kind=\"barh\", legend=False, ax=ax[0]).grid(axis=\"x\")\n",
    "ax[0].set(ylabel=\"\")\n",
    "ax[1].title.set_text('cumulative')\n",
    "dtf_importances[[\"cumsum\"]].plot(kind=\"line\", linewidth=4, \n",
    "                                 legend=False, ax=ax[1])\n",
    "ax[1].set(xlabel=\"\", xticks=np.arange(len(dtf_importances)), \n",
    "          xticklabels=dtf_importances.index)\n",
    "plt.xticks(rotation=70)\n",
    "plt.grid(axis='both')\n",
    "plt.show()"
   ]
  },
  {
   "cell_type": "code",
   "execution_count": 11,
   "id": "7cee5a2b",
   "metadata": {},
   "outputs": [],
   "source": [
    "# Okay, now we know what is worth keeping\n",
    "X_names = ['CLI','PPI','BCI','Employment Rate','LTI Rate']\n",
    "X_train = dtf_train[X_names].values\n",
    "y_train = dtf_train[\"max_ratio\"].values\n",
    "X_test = dtf_test[X_names].values\n",
    "y_test = dtf_test[\"max_ratio\"].values"
   ]
  },
  {
   "cell_type": "code",
   "execution_count": 12,
   "id": "d8513f2d",
   "metadata": {},
   "outputs": [
    {
     "data": {
      "image/png": "[encoded data removed]",
      "text/plain": [
       "<Figure size 432x288 with 1 Axes>"
      ]
     },
     "metadata": {
      "needs_background": "light"
     },
     "output_type": "display_data"
    }
   ],
   "source": [
    "## call model\n",
    "# model = linear_model.LinearRegression()## K fold validation\n",
    "model = ensemble.GradientBoostingRegressor()\n",
    "\n",
    "scores = []\n",
    "cv = model_selection.KFold(n_splits=5, shuffle=True)\n",
    "fig = plt.figure()\n",
    "i = 1\n",
    "for train, test in cv.split(X_train, y_train):\n",
    "    prediction = model.fit(X_train[train],\n",
    "                 y_train[train]).predict(X_train[test])\n",
    "    \n",
    "    true = y_train[test]\n",
    "    score = metrics.r2_score(true, prediction)\n",
    "    scores.append(score)\n",
    "    plt.scatter(prediction, true, lw=2, alpha=0.3, \n",
    "                label='Fold %d (R2 = %0.2f)' % (i,score))\n",
    "    i = i+1\n",
    "    \n",
    "plt.plot([min(y_train),max(y_train)], [min(y_train),max(y_train)], \n",
    "         linestyle='--', lw=2, color='black')\n",
    "plt.xlabel('Predicted')\n",
    "plt.ylabel('True')\n",
    "plt.title('K-Fold Validation')\n",
    "plt.legend()\n",
    "plt.show()"
   ]
  },
  {
   "cell_type": "code",
   "execution_count": 13,
   "id": "7d9dc349",
   "metadata": {},
   "outputs": [],
   "source": [
    "## train\n",
    "model.fit(X_train, y_train)\n",
    "## test\n",
    "predicted = model.predict(X_test)\n",
    "\n",
    "#predicted = scalerY.inverse_transform( \n",
    "#                  predicted_raw.reshape(-1,1) ).reshape(-1)"
   ]
  },
  {
   "cell_type": "code",
   "execution_count": 14,
   "id": "ee1386ef",
   "metadata": {},
   "outputs": [
    {
     "data": {
      "text/plain": [
       "array([5.65864968, 5.80484647, 5.34835042, 5.44242052, 5.6579773 ,\n",
       "       5.20535134, 5.49290676, 4.2998353 , 5.27021384, 5.50009691])"
      ]
     },
     "execution_count": 14,
     "metadata": {},
     "output_type": "execute_result"
    }
   ],
   "source": [
    "predicted"
   ]
  },
  {
   "cell_type": "code",
   "execution_count": 15,
   "id": "c4e0dda9",
   "metadata": {},
   "outputs": [
    {
     "data": {
      "text/plain": [
       "array([5.64338235, 5.75      , 5.12867647, 6.10294118, 5.49632353,\n",
       "       5.35294118, 5.40441176, 4.73529412, 5.05882353, 5.86397059])"
      ]
     },
     "execution_count": 15,
     "metadata": {},
     "output_type": "execute_result"
    }
   ],
   "source": [
    "y_test"
   ]
  },
  {
   "cell_type": "code",
   "execution_count": 16,
   "id": "15e0f91f",
   "metadata": {},
   "outputs": [
    {
     "name": "stdout",
     "output_type": "stream",
     "text": [
      "R2 (explained variance): 0.4\n",
      "Mean Absolute Perc Error (Σ(|y-pred|/y)/n): 0.05\n",
      "Mean Absolute Error (Σ|y-pred|/n): 0\n",
      "Root Mean Squared Error (sqrt(Σ(y-pred)^2/n)): 0\n",
      "Max Error: 1\n"
     ]
    }
   ],
   "source": [
    "## Kpi\n",
    "print(\"R2 (explained variance):\", round(metrics.r2_score(y_test, predicted), 2))\n",
    "print(\"Mean Absolute Perc Error (Σ(|y-pred|/y)/n):\", round(np.mean(np.abs((y_test-predicted)/predicted)), 2))\n",
    "print(\"Mean Absolute Error (Σ|y-pred|/n):\", \"{:,.0f}\".format(metrics.mean_absolute_error(y_test, predicted)))\n",
    "print(\"Root Mean Squared Error (sqrt(Σ(y-pred)^2/n)):\", \"{:,.0f}\".format(np.sqrt(metrics.mean_squared_error(y_test, predicted))))\n",
    "\n",
    "## residuals\n",
    "residuals = y_test - predicted\n",
    "max_error = max(residuals) if abs(max(residuals)) > abs(min(residuals)) else min(residuals)\n",
    "max_idx = list(residuals).index(max(residuals)) if abs(max(residuals)) > abs(min(residuals)) else list(residuals).index(min(residuals))\n",
    "max_true, max_pred = y_test[max_idx], predicted[max_idx]\n",
    "print(\"Max Error:\", \"{:,.0f}\".format(max_error))"
   ]
  },
  {
   "cell_type": "code",
   "execution_count": 17,
   "id": "66c896a8",
   "metadata": {},
   "outputs": [
    {
     "data": {
      "image/png": "[encoded data removed]",
      "text/plain": [
       "<Figure size 432x288 with 2 Axes>"
      ]
     },
     "metadata": {
      "needs_background": "light"
     },
     "output_type": "display_data"
    }
   ],
   "source": [
    "## Plot predicted vs true\n",
    "fig, ax = plt.subplots(nrows=1, ncols=2)\n",
    "from statsmodels.graphics.api import abline_plot\n",
    "ax[0].scatter(predicted, y_test, color=\"black\")\n",
    "# abline_plot(intercept=0, slope=1, color=\"red\", ax=ax[0])\n",
    "ax[0].vlines(x=max_pred, ymin=max_true, ymax=max_true-max_error, color='red', linestyle='--', alpha=0.7, label=\"max error\")\n",
    "ax[0].grid(True)\n",
    "ax[0].set(xlabel=\"Predicted\", ylabel=\"True\", title=\"Predicted vs True\")\n",
    "ax[0].legend()\n",
    "    \n",
    "## Plot predicted vs residuals\n",
    "ax[1].scatter(predicted, residuals, color=\"red\")\n",
    "ax[1].vlines(x=max_pred, ymin=0, ymax=max_error, color='black', linestyle='--', alpha=0.7, label=\"max error\")\n",
    "ax[1].grid(True)\n",
    "ax[1].set(xlabel=\"Predicted\", ylabel=\"Residuals\", title=\"Predicted vs Residuals\")\n",
    "ax[1].hlines(y=0, xmin=np.min(predicted), xmax=np.max(predicted))\n",
    "ax[1].legend()\n",
    "plt.show()"
   ]
  },
  {
   "cell_type": "code",
   "execution_count": 18,
   "id": "2ec594cc",
   "metadata": {},
   "outputs": [
    {
     "data": {
      "text/plain": [
       "array([5.36074174])"
      ]
     },
     "execution_count": 18,
     "metadata": {},
     "output_type": "execute_result"
    }
   ],
   "source": [
    "###### GENERATE PREDICTIONS\n",
    "current = pd.read_csv('OECD input data - monthly Jan 2018 onward.csv')\n",
    "current.set_index('TIME', inplace = True)\n",
    "# current.head()\n",
    "\n",
    "inPredict = current[len(current)-1:len(current)]\n",
    "inPredict = inPredict[X_names].values\n",
    "inPredict\n",
    "\n",
    "outPredict = model.predict(inPredict)\n",
    "outPredict\n"
   ]
  }
 ],
 "metadata": {
  "kernelspec": {
   "display_name": "Python 3 (ipykernel)",
   "language": "python",
   "name": "python3"
  },
  "language_info": {
   "codemirror_mode": {
    "name": "ipython",
    "version": 3
   },
   "file_extension": ".py",
   "mimetype": "text/x-python",
   "name": "python",
   "nbconvert_exporter": "python",
   "pygments_lexer": "ipython3",
   "version": "3.10.4"
  }
 },
 "nbformat": 4,
 "nbformat_minor": 5
}
