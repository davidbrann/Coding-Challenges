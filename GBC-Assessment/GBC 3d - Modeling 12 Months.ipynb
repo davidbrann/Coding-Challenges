{
 "cells": [
  {
   "cell_type": "code",
   "execution_count": 1,
   "id": "b9febe09",
   "metadata": {},
   "outputs": [],
   "source": [
    "## for data\n",
    "import pandas as pd\n",
    "import numpy as np\n",
    "## for plotting\n",
    "import matplotlib.pyplot as plt\n",
    "import seaborn as sns\n",
    "## for statistical tests\n",
    "import scipy\n",
    "import statsmodels.formula.api as smf\n",
    "import statsmodels.api as sm\n",
    "## for machine learning\n",
    "from sklearn import model_selection, preprocessing, feature_selection, ensemble, linear_model, metrics, decomposition## for explainer\n",
    "from lime import lime_tabular"
   ]
  },
  {
   "cell_type": "code",
   "execution_count": 2,
   "id": "5a2ba490",
   "metadata": {},
   "outputs": [],
   "source": [
    "# Don't have any existing modeling code on hand to start from, so grabbing the basic components from this tutorial\n",
    "# https://towardsdatascience.com/machine-learning-with-python-regression-complete-tutorial-47268e546cea"
   ]
  },
  {
   "cell_type": "code",
   "execution_count": 3,
   "id": "b8201c7c",
   "metadata": {},
   "outputs": [],
   "source": [
    "analysis12M = pd.read_csv('GBC train 12M.csv')"
   ]
  },
  {
   "cell_type": "code",
   "execution_count": 4,
   "id": "b1608f8f",
   "metadata": {
    "scrolled": true
   },
   "outputs": [
    {
     "data": {
      "text/html": [
       "<div>\n",
       "<style scoped>\n",
       "    .dataframe tbody tr th:only-of-type {\n",
       "        vertical-align: middle;\n",
       "    }\n",
       "\n",
       "    .dataframe tbody tr th {\n",
       "        vertical-align: top;\n",
       "    }\n",
       "\n",
       "    .dataframe thead th {\n",
       "        text-align: right;\n",
       "    }\n",
       "</style>\n",
       "<table border=\"1\" class=\"dataframe\">\n",
       "  <thead>\n",
       "    <tr style=\"text-align: right;\">\n",
       "      <th></th>\n",
       "      <th>max_ratio</th>\n",
       "      <th>CLI</th>\n",
       "      <th>BCI</th>\n",
       "      <th>CCI</th>\n",
       "      <th>Employment Rate</th>\n",
       "      <th>CPI</th>\n",
       "      <th>LTI Rate</th>\n",
       "      <th>PPI</th>\n",
       "      <th>STI Rate</th>\n",
       "      <th>Unemployment Rate</th>\n",
       "    </tr>\n",
       "    <tr>\n",
       "      <th>Month</th>\n",
       "      <th></th>\n",
       "      <th></th>\n",
       "      <th></th>\n",
       "      <th></th>\n",
       "      <th></th>\n",
       "      <th></th>\n",
       "      <th></th>\n",
       "      <th></th>\n",
       "      <th></th>\n",
       "      <th></th>\n",
       "    </tr>\n",
       "  </thead>\n",
       "  <tbody>\n",
       "    <tr>\n",
       "      <th>2016-01-01</th>\n",
       "      <td>4.573529</td>\n",
       "      <td>0.7341</td>\n",
       "      <td>0.18380</td>\n",
       "      <td>1.1536</td>\n",
       "      <td>-1.855</td>\n",
       "      <td>-1.39652</td>\n",
       "      <td>1.88</td>\n",
       "      <td>-0.29642</td>\n",
       "      <td>0.16</td>\n",
       "      <td>5.7</td>\n",
       "    </tr>\n",
       "    <tr>\n",
       "      <th>2016-02-01</th>\n",
       "      <td>5.147059</td>\n",
       "      <td>0.6263</td>\n",
       "      <td>-0.03513</td>\n",
       "      <td>1.1561</td>\n",
       "      <td>-1.955</td>\n",
       "      <td>-0.96828</td>\n",
       "      <td>1.98</td>\n",
       "      <td>-0.08084</td>\n",
       "      <td>0.15</td>\n",
       "      <td>5.5</td>\n",
       "    </tr>\n",
       "    <tr>\n",
       "      <th>2016-03-01</th>\n",
       "      <td>5.036765</td>\n",
       "      <td>0.5192</td>\n",
       "      <td>-0.18522</td>\n",
       "      <td>1.0509</td>\n",
       "      <td>-1.872</td>\n",
       "      <td>-0.37888</td>\n",
       "      <td>2.04</td>\n",
       "      <td>0.35030</td>\n",
       "      <td>0.14</td>\n",
       "      <td>5.4</td>\n",
       "    </tr>\n",
       "    <tr>\n",
       "      <th>2016-04-01</th>\n",
       "      <td>5.330882</td>\n",
       "      <td>0.4155</td>\n",
       "      <td>-0.22597</td>\n",
       "      <td>0.9912</td>\n",
       "      <td>-1.489</td>\n",
       "      <td>-0.17636</td>\n",
       "      <td>1.94</td>\n",
       "      <td>0.08080</td>\n",
       "      <td>0.13</td>\n",
       "      <td>5.4</td>\n",
       "    </tr>\n",
       "    <tr>\n",
       "      <th>2016-05-01</th>\n",
       "      <td>4.926471</td>\n",
       "      <td>0.3060</td>\n",
       "      <td>-0.16427</td>\n",
       "      <td>0.9036</td>\n",
       "      <td>-1.183</td>\n",
       "      <td>0.33250</td>\n",
       "      <td>2.20</td>\n",
       "      <td>1.42820</td>\n",
       "      <td>0.15</td>\n",
       "      <td>5.6</td>\n",
       "    </tr>\n",
       "  </tbody>\n",
       "</table>\n",
       "</div>"
      ],
      "text/plain": [
       "            max_ratio     CLI      BCI     CCI  Employment Rate      CPI  \\\n",
       "Month                                                                      \n",
       "2016-01-01   4.573529  0.7341  0.18380  1.1536           -1.855 -1.39652   \n",
       "2016-02-01   5.147059  0.6263 -0.03513  1.1561           -1.955 -0.96828   \n",
       "2016-03-01   5.036765  0.5192 -0.18522  1.0509           -1.872 -0.37888   \n",
       "2016-04-01   5.330882  0.4155 -0.22597  0.9912           -1.489 -0.17636   \n",
       "2016-05-01   4.926471  0.3060 -0.16427  0.9036           -1.183  0.33250   \n",
       "\n",
       "            LTI Rate      PPI  STI Rate  Unemployment Rate  \n",
       "Month                                                       \n",
       "2016-01-01      1.88 -0.29642      0.16                5.7  \n",
       "2016-02-01      1.98 -0.08084      0.15                5.5  \n",
       "2016-03-01      2.04  0.35030      0.14                5.4  \n",
       "2016-04-01      1.94  0.08080      0.13                5.4  \n",
       "2016-05-01      2.20  1.42820      0.15                5.6  "
      ]
     },
     "execution_count": 4,
     "metadata": {},
     "output_type": "execute_result"
    }
   ],
   "source": [
    "# Get down to just the columns we need - this has extra Time Offset columns \n",
    "analysis12M = analysis12M.loc[:, ['Month', 'max_ratio', 'CLI', 'BCI', 'CCI', 'Employment Rate', 'CPI',\n",
    "       'LTI Rate', 'PPI', 'STI Rate', 'Unemployment Rate']]\n",
    "\n",
    "analysis12M.set_index('Month', inplace = True)\n",
    "\n",
    "analysis12M.head()"
   ]
  },
  {
   "cell_type": "code",
   "execution_count": 5,
   "id": "8a5b137d",
   "metadata": {},
   "outputs": [
    {
     "name": "stdout",
     "output_type": "stream",
     "text": [
      "X_train shape: (38, 9) | X_test shape: (10, 9)\n",
      "y_train mean: 5.32 | y_test mean: 5.43\n",
      "10 features: ['CLI', 'BCI', 'CCI', 'Employment Rate', 'CPI', 'LTI Rate', 'PPI', 'STI Rate', 'Unemployment Rate']\n"
     ]
    }
   ],
   "source": [
    "## split data\n",
    "dtf_train, dtf_test = model_selection.train_test_split(analysis12M, \n",
    "                      test_size=0.2)\n",
    "\n",
    "## print info\n",
    "print(\"X_train shape:\", dtf_train.drop(\"max_ratio\",axis=1).shape, \"| X_test shape:\", dtf_test.drop(\"max_ratio\",axis=1).shape)\n",
    "print(\"y_train mean:\", round(np.mean(dtf_train[\"max_ratio\"]),2), \"| y_test mean:\", round(np.mean(dtf_test[\"max_ratio\"]),2))\n",
    "print(dtf_train.shape[1], \"features:\", dtf_train.drop(\"max_ratio\",axis=1).columns.to_list())"
   ]
  },
  {
   "cell_type": "code",
   "execution_count": 6,
   "id": "cd59c63c",
   "metadata": {},
   "outputs": [
    {
     "data": {
      "text/html": [
       "<div>\n",
       "<style scoped>\n",
       "    .dataframe tbody tr th:only-of-type {\n",
       "        vertical-align: middle;\n",
       "    }\n",
       "\n",
       "    .dataframe tbody tr th {\n",
       "        vertical-align: top;\n",
       "    }\n",
       "\n",
       "    .dataframe thead th {\n",
       "        text-align: right;\n",
       "    }\n",
       "</style>\n",
       "<table border=\"1\" class=\"dataframe\">\n",
       "  <thead>\n",
       "    <tr style=\"text-align: right;\">\n",
       "      <th></th>\n",
       "      <th>CLI</th>\n",
       "      <th>BCI</th>\n",
       "      <th>CCI</th>\n",
       "      <th>Employment Rate</th>\n",
       "      <th>CPI</th>\n",
       "      <th>LTI Rate</th>\n",
       "      <th>PPI</th>\n",
       "      <th>STI Rate</th>\n",
       "      <th>Unemployment Rate</th>\n",
       "      <th>max_ratio</th>\n",
       "    </tr>\n",
       "    <tr>\n",
       "      <th>Month</th>\n",
       "      <th></th>\n",
       "      <th></th>\n",
       "      <th></th>\n",
       "      <th></th>\n",
       "      <th></th>\n",
       "      <th></th>\n",
       "      <th></th>\n",
       "      <th></th>\n",
       "      <th></th>\n",
       "      <th></th>\n",
       "    </tr>\n",
       "  </thead>\n",
       "  <tbody>\n",
       "    <tr>\n",
       "      <th>2017-10-01</th>\n",
       "      <td>-0.550723</td>\n",
       "      <td>-0.310084</td>\n",
       "      <td>-0.750249</td>\n",
       "      <td>-0.066773</td>\n",
       "      <td>0.017259</td>\n",
       "      <td>-1.260606</td>\n",
       "      <td>-0.461527</td>\n",
       "      <td>-0.095238</td>\n",
       "      <td>0.228571</td>\n",
       "      <td>1.159281</td>\n",
       "    </tr>\n",
       "    <tr>\n",
       "      <th>2019-11-01</th>\n",
       "      <td>0.137777</td>\n",
       "      <td>0.421272</td>\n",
       "      <td>0.390475</td>\n",
       "      <td>1.157520</td>\n",
       "      <td>1.215485</td>\n",
       "      <td>2.036364</td>\n",
       "      <td>1.423098</td>\n",
       "      <td>1.851852</td>\n",
       "      <td>-1.028571</td>\n",
       "      <td>-0.205988</td>\n",
       "    </tr>\n",
       "    <tr>\n",
       "      <th>2017-08-01</th>\n",
       "      <td>-0.745066</td>\n",
       "      <td>-0.440581</td>\n",
       "      <td>-0.831215</td>\n",
       "      <td>-0.070334</td>\n",
       "      <td>-0.085001</td>\n",
       "      <td>-1.745455</td>\n",
       "      <td>-0.615375</td>\n",
       "      <td>-0.084656</td>\n",
       "      <td>0.228571</td>\n",
       "      <td>0.416766</td>\n",
       "    </tr>\n",
       "    <tr>\n",
       "      <th>2016-12-01</th>\n",
       "      <td>-0.687515</td>\n",
       "      <td>-0.802452</td>\n",
       "      <td>-0.558713</td>\n",
       "      <td>-0.490302</td>\n",
       "      <td>-0.587592</td>\n",
       "      <td>-0.096970</td>\n",
       "      <td>-0.833325</td>\n",
       "      <td>-0.285714</td>\n",
       "      <td>0.342857</td>\n",
       "      <td>-1.044311</td>\n",
       "    </tr>\n",
       "    <tr>\n",
       "      <th>2019-06-01</th>\n",
       "      <td>0.708865</td>\n",
       "      <td>0.625183</td>\n",
       "      <td>0.478005</td>\n",
       "      <td>0.935707</td>\n",
       "      <td>1.209783</td>\n",
       "      <td>1.527273</td>\n",
       "      <td>1.423098</td>\n",
       "      <td>1.460317</td>\n",
       "      <td>-0.800000</td>\n",
       "      <td>0.201198</td>\n",
       "    </tr>\n",
       "  </tbody>\n",
       "</table>\n",
       "</div>"
      ],
      "text/plain": [
       "                 CLI       BCI       CCI  Employment Rate       CPI  LTI Rate  \\\n",
       "Month                                                                           \n",
       "2017-10-01 -0.550723 -0.310084 -0.750249        -0.066773  0.017259 -1.260606   \n",
       "2019-11-01  0.137777  0.421272  0.390475         1.157520  1.215485  2.036364   \n",
       "2017-08-01 -0.745066 -0.440581 -0.831215        -0.070334 -0.085001 -1.745455   \n",
       "2016-12-01 -0.687515 -0.802452 -0.558713        -0.490302 -0.587592 -0.096970   \n",
       "2019-06-01  0.708865  0.625183  0.478005         0.935707  1.209783  1.527273   \n",
       "\n",
       "                 PPI  STI Rate  Unemployment Rate  max_ratio  \n",
       "Month                                                         \n",
       "2017-10-01 -0.461527 -0.095238           0.228571   1.159281  \n",
       "2019-11-01  1.423098  1.851852          -1.028571  -0.205988  \n",
       "2017-08-01 -0.615375 -0.084656           0.228571   0.416766  \n",
       "2016-12-01 -0.833325 -0.285714           0.342857  -1.044311  \n",
       "2019-06-01  1.423098  1.460317          -0.800000   0.201198  "
      ]
     },
     "execution_count": 6,
     "metadata": {},
     "output_type": "execute_result"
    }
   ],
   "source": [
    "## scale X\n",
    "scalerX = preprocessing.RobustScaler(quantile_range=(25.0, 75.0))\n",
    "X = scalerX.fit_transform(dtf_train.drop(\"max_ratio\", axis=1))\n",
    "\n",
    "dtf_scaled= pd.DataFrame(X, columns=dtf_train.drop(\"max_ratio\", \n",
    "                        axis=1).columns, index=dtf_train.index)  \n",
    "\n",
    "## scale max_ratio\n",
    "scalerY = preprocessing.RobustScaler(quantile_range=(25.0, 75.0))\n",
    "dtf_scaled['max_ratio'] = scalerY.fit_transform(\n",
    "                    dtf_train['max_ratio'].values.reshape(-1,1))\n",
    "\n",
    "dtf_scaled.head()"
   ]
  },
  {
   "cell_type": "code",
   "execution_count": 7,
   "id": "5d26e2f5",
   "metadata": {},
   "outputs": [
    {
     "data": {
      "text/plain": [
       "<AxesSubplot:xlabel='selection', ylabel='features'>"
      ]
     },
     "execution_count": 7,
     "metadata": {},
     "output_type": "execute_result"
    },
    {
     "data": {
      "image/png": "[encoded data removed]",
      "text/plain": [
       "<Figure size 432x288 with 1 Axes>"
      ]
     },
     "metadata": {
      "needs_background": "light"
     },
     "output_type": "display_data"
    }
   ],
   "source": [
    "X = dtf_train.drop(\"max_ratio\", axis=1).values\n",
    "y = dtf_train[\"max_ratio\"].values\n",
    "feature_names = dtf_train.drop(\"max_ratio\", axis=1).columns\n",
    "\n",
    "## p-value\n",
    "selector = feature_selection.SelectKBest(score_func=  \n",
    "               feature_selection.f_regression, k=9).fit(X,y)\n",
    "pvalue_selected_features = feature_names[selector.get_support()]\n",
    "\n",
    "## regularization\n",
    "selector = feature_selection.SelectFromModel(estimator= \n",
    "              linear_model.Ridge(alpha=1.0, fit_intercept=True), \n",
    "                                 max_features=9).fit(X,y)\n",
    "regularization_selected_features = feature_names[selector.get_support()]\n",
    " \n",
    "## plot\n",
    "dtf_features = pd.DataFrame({\"features\":feature_names})\n",
    "dtf_features[\"p_value\"] = dtf_features[\"features\"].apply(lambda x: \"p_value\" if x in pvalue_selected_features else \"\")\n",
    "dtf_features[\"num1\"] = dtf_features[\"features\"].apply(lambda x: 1 if x in pvalue_selected_features else 0)\n",
    "dtf_features[\"regularization\"] = dtf_features[\"features\"].apply(lambda x: \"regularization\" if x in regularization_selected_features else \"\")\n",
    "dtf_features[\"num2\"] = dtf_features[\"features\"].apply(lambda x: 1 if x in regularization_selected_features else 0)\n",
    "dtf_features[\"method\"] = dtf_features[[\"p_value\",\"regularization\"]].apply(lambda x: (x[0]+\" \"+x[1]).strip(), axis=1)\n",
    "dtf_features[\"selection\"] = dtf_features[\"num1\"] + dtf_features[\"num2\"]\n",
    "dtf_features[\"method\"] = dtf_features[\"method\"].apply(lambda x: \"both\" if len(x.split()) == 2 else x)\n",
    "\n",
    "sns.barplot(y=\"features\", x=\"selection\", hue=\"method\", \n",
    "            data=dtf_features.sort_values(\"selection\", ascending=False), dodge=False)"
   ]
  },
  {
   "cell_type": "code",
   "execution_count": 8,
   "id": "b1b6bda4",
   "metadata": {},
   "outputs": [
    {
     "data": {
      "image/png": "[encoded data removed]",
      "text/plain": [
       "<Figure size 432x288 with 2 Axes>"
      ]
     },
     "metadata": {
      "needs_background": "light"
     },
     "output_type": "display_data"
    }
   ],
   "source": [
    "X = dtf_train.drop(\"max_ratio\", axis=1).values\n",
    "y = dtf_train[\"max_ratio\"].values\n",
    "feature_names = dtf_train.drop(\"max_ratio\", axis=1).columns.tolist()\n",
    "\n",
    "## call model\n",
    "model = ensemble.GradientBoostingRegressor()\n",
    "\n",
    "## Importance\n",
    "model.fit(X,y)\n",
    "importances = model.feature_importances_## Put in a pandas dtf\n",
    "dtf_importances = pd.DataFrame({\"IMPORTANCE\":importances, \n",
    "            \"VARIABLE\":feature_names}).sort_values(\"IMPORTANCE\", \n",
    "            ascending=False)\n",
    "dtf_importances['cumsum'] = dtf_importances['IMPORTANCE'].cumsum(axis=0)\n",
    "dtf_importances = dtf_importances.set_index(\"VARIABLE\")\n",
    "    \n",
    "## Plot\n",
    "fig, ax = plt.subplots(nrows=1, ncols=2, sharex=False, sharey=False)\n",
    "fig.suptitle(\"Features Importance\", fontsize=20)\n",
    "ax[0].title.set_text('variables')\n",
    "\n",
    "dtf_importances[[\"IMPORTANCE\"]].sort_values(by=\"IMPORTANCE\").plot(\n",
    "                kind=\"barh\", legend=False, ax=ax[0]).grid(axis=\"x\")\n",
    "ax[0].set(ylabel=\"\")\n",
    "ax[1].title.set_text('cumulative')\n",
    "dtf_importances[[\"cumsum\"]].plot(kind=\"line\", linewidth=4, \n",
    "                                 legend=False, ax=ax[1])\n",
    "ax[1].set(xlabel=\"\", xticks=np.arange(len(dtf_importances)), \n",
    "          xticklabels=dtf_importances.index)\n",
    "plt.xticks(rotation=70)\n",
    "plt.grid(axis='both')\n",
    "plt.show()"
   ]
  },
  {
   "cell_type": "code",
   "execution_count": 9,
   "id": "ee174db4",
   "metadata": {},
   "outputs": [],
   "source": [
    "# Okay, now we know what is worth keeping\n",
    "X_names = ['Employment Rate', 'CCI', 'STI Rate', 'CLI', 'CPI']\n",
    "X_train = dtf_train[X_names].values\n",
    "y_train = dtf_train[\"max_ratio\"].values\n",
    "X_test = dtf_test[X_names].values\n",
    "y_test = dtf_test[\"max_ratio\"].values"
   ]
  },
  {
   "cell_type": "code",
   "execution_count": 10,
   "id": "5b895fb0",
   "metadata": {},
   "outputs": [
    {
     "data": {
      "image/png": "[encoded data removed]",
      "text/plain": [
       "<Figure size 432x288 with 1 Axes>"
      ]
     },
     "metadata": {
      "needs_background": "light"
     },
     "output_type": "display_data"
    }
   ],
   "source": [
    "## call model\n",
    "#model = linear_model.LinearRegression()## K fold validation\n",
    "model = ensemble.GradientBoostingRegressor()\n",
    "\n",
    "scores = []\n",
    "cv = model_selection.KFold(n_splits=5, shuffle=True)\n",
    "fig = plt.figure()\n",
    "i = 1\n",
    "for train, test in cv.split(X_train, y_train):\n",
    "    prediction = model.fit(X_train[train],\n",
    "                 y_train[train]).predict(X_train[test])\n",
    "    true = y_train[test]\n",
    "    score = metrics.r2_score(true, prediction)\n",
    "    scores.append(score)\n",
    "    plt.scatter(prediction, true, lw=2, alpha=0.3, \n",
    "                label='Fold %d (R2 = %0.2f)' % (i,score))\n",
    "    i = i+1\n",
    "plt.plot([min(y_train),max(y_train)], [min(y_train),max(y_train)], \n",
    "         linestyle='--', lw=2, color='black')\n",
    "plt.xlabel('Predicted')\n",
    "plt.ylabel('True')\n",
    "plt.title('K-Fold Validation')\n",
    "plt.legend()\n",
    "plt.show()"
   ]
  },
  {
   "cell_type": "code",
   "execution_count": 11,
   "id": "e14b4c41",
   "metadata": {},
   "outputs": [],
   "source": [
    "## train\n",
    "model.fit(X_train, y_train)\n",
    "## test\n",
    "predicted = model.predict(X_test)\n",
    "\n",
    "#predicted = scalerY.inverse_transform( \n",
    "#                  predicted.reshape(-1,1) ).reshape(-1)"
   ]
  },
  {
   "cell_type": "code",
   "execution_count": 12,
   "id": "d1819939",
   "metadata": {},
   "outputs": [
    {
     "data": {
      "text/plain": [
       "array([5.76378138, 5.25486768, 5.06056394, 4.90525849, 5.46931206,\n",
       "       5.75941891, 5.06056394, 5.43338815, 4.92166897, 5.69223351])"
      ]
     },
     "execution_count": 12,
     "metadata": {},
     "output_type": "execute_result"
    }
   ],
   "source": [
    "predicted"
   ]
  },
  {
   "cell_type": "code",
   "execution_count": 13,
   "id": "6d6b3cd5",
   "metadata": {},
   "outputs": [
    {
     "data": {
      "text/plain": [
       "array([5.60661765, 5.17647059, 5.40441176, 5.14705882, 5.29411765,\n",
       "       5.64338235, 5.42279412, 5.79044118, 5.33088235, 5.44117647])"
      ]
     },
     "execution_count": 13,
     "metadata": {},
     "output_type": "execute_result"
    }
   ],
   "source": [
    "y_test"
   ]
  },
  {
   "cell_type": "code",
   "execution_count": 14,
   "id": "80b73c7d",
   "metadata": {},
   "outputs": [
    {
     "name": "stdout",
     "output_type": "stream",
     "text": [
      "R2 (explained variance): -0.95\n",
      "Mean Absolute Perc Error (Σ(|y-pred|/y)/n): 0.05\n",
      "Mean Absolute Error (Σ|y-pred|/n): 0\n",
      "Root Mean Squared Error (sqrt(Σ(y-pred)^2/n)): 0\n",
      "Max Error: 0\n"
     ]
    }
   ],
   "source": [
    "## Kpi\n",
    "print(\"R2 (explained variance):\", round(metrics.r2_score(y_test, predicted), 2))\n",
    "print(\"Mean Absolute Perc Error (Σ(|y-pred|/y)/n):\", round(np.mean(np.abs((y_test-predicted)/predicted)), 2))\n",
    "print(\"Mean Absolute Error (Σ|y-pred|/n):\", \"{:,.0f}\".format(metrics.mean_absolute_error(y_test, predicted)))\n",
    "print(\"Root Mean Squared Error (sqrt(Σ(y-pred)^2/n)):\", \"{:,.0f}\".format(np.sqrt(metrics.mean_squared_error(y_test, predicted))))\n",
    "\n",
    "## residuals\n",
    "residuals = y_test - predicted\n",
    "max_error = max(residuals) if abs(max(residuals)) > abs(min(residuals)) else min(residuals)\n",
    "max_idx = list(residuals).index(max(residuals)) if abs(max(residuals)) > abs(min(residuals)) else list(residuals).index(min(residuals))\n",
    "max_true, max_pred = y_test[max_idx], predicted[max_idx]\n",
    "print(\"Max Error:\", \"{:,.0f}\".format(max_error))"
   ]
  },
  {
   "cell_type": "code",
   "execution_count": 15,
   "id": "ec6154ea",
   "metadata": {},
   "outputs": [
    {
     "data": {
      "image/png": "[encoded data removed]",
      "text/plain": [
       "<Figure size 432x288 with 2 Axes>"
      ]
     },
     "metadata": {
      "needs_background": "light"
     },
     "output_type": "display_data"
    }
   ],
   "source": [
    "## Plot predicted vs true\n",
    "fig, ax = plt.subplots(nrows=1, ncols=2)\n",
    "from statsmodels.graphics.api import abline_plot\n",
    "ax[0].scatter(predicted, y_test, color=\"black\")\n",
    "#abline_plot(intercept=0, slope=1, color=\"red\", ax=ax[0])\n",
    "ax[0].vlines(x=max_pred, ymin=max_true, ymax=max_true-max_error, color='red', linestyle='--', alpha=0.7, label=\"max error\")\n",
    "ax[0].grid(True)\n",
    "ax[0].set(xlabel=\"Predicted\", ylabel=\"True\", title=\"Predicted vs True\")\n",
    "ax[0].legend()\n",
    "    \n",
    "## Plot predicted vs residuals\n",
    "ax[1].scatter(predicted, residuals, color=\"red\")\n",
    "ax[1].vlines(x=max_pred, ymin=0, ymax=max_error, color='black', linestyle='--', alpha=0.7, label=\"max error\")\n",
    "ax[1].grid(True)\n",
    "ax[1].set(xlabel=\"Predicted\", ylabel=\"Residuals\", title=\"Predicted vs Residuals\")\n",
    "ax[1].hlines(y=0, xmin=np.min(predicted), xmax=np.max(predicted))\n",
    "ax[1].legend()\n",
    "plt.show()"
   ]
  },
  {
   "cell_type": "code",
   "execution_count": 16,
   "id": "b503363a",
   "metadata": {},
   "outputs": [
    {
     "data": {
      "text/plain": [
       "array([5.77133976])"
      ]
     },
     "execution_count": 16,
     "metadata": {},
     "output_type": "execute_result"
    }
   ],
   "source": [
    "###### GENERATE PREDICTIONS\n",
    "current = pd.read_csv('OECD input data - monthly Jan 2018 onward.csv')\n",
    "current.set_index('TIME', inplace = True)\n",
    "# current.head()\n",
    "\n",
    "inPredict = current[len(current)-1:len(current)]\n",
    "inPredict = inPredict[X_names].values\n",
    "inPredict\n",
    "\n",
    "outPredict = model.predict(inPredict)\n",
    "outPredict"
   ]
  }
 ],
 "metadata": {
  "kernelspec": {
   "display_name": "Python 3 (ipykernel)",
   "language": "python",
   "name": "python3"
  },
  "language_info": {
   "codemirror_mode": {
    "name": "ipython",
    "version": 3
   },
   "file_extension": ".py",
   "mimetype": "text/x-python",
   "name": "python",
   "nbconvert_exporter": "python",
   "pygments_lexer": "ipython3",
   "version": "3.10.4"
  }
 },
 "nbformat": 4,
 "nbformat_minor": 5
}
