{
 "cells": [
  {
   "cell_type": "code",
   "execution_count": 1,
   "id": "b9febe09",
   "metadata": {},
   "outputs": [],
   "source": [
    "## for data\n",
    "import pandas as pd\n",
    "import numpy as np\n",
    "## for plotting\n",
    "import matplotlib.pyplot as plt\n",
    "import seaborn as sns\n",
    "## for statistical tests\n",
    "import scipy\n",
    "import statsmodels.formula.api as smf\n",
    "import statsmodels.api as sm\n",
    "## for machine learning\n",
    "from sklearn import model_selection, preprocessing, feature_selection, ensemble, linear_model, metrics, decomposition## for explainer\n",
    "from lime import lime_tabular"
   ]
  },
  {
   "cell_type": "code",
   "execution_count": 2,
   "id": "5a2ba490",
   "metadata": {},
   "outputs": [],
   "source": [
    "# Don't have any existing modeling code on hand to start from, so grabbing the basic components from this tutorial\n",
    "# https://towardsdatascience.com/machine-learning-with-python-regression-complete-tutorial-47268e546cea"
   ]
  },
  {
   "cell_type": "code",
   "execution_count": 3,
   "id": "b8201c7c",
   "metadata": {},
   "outputs": [],
   "source": [
    "analysis6M = pd.read_csv('GBC train 06M.csv')"
   ]
  },
  {
   "cell_type": "code",
   "execution_count": 4,
   "id": "b1608f8f",
   "metadata": {},
   "outputs": [
    {
     "data": {
      "text/html": [
       "<div>\n",
       "<style scoped>\n",
       "    .dataframe tbody tr th:only-of-type {\n",
       "        vertical-align: middle;\n",
       "    }\n",
       "\n",
       "    .dataframe tbody tr th {\n",
       "        vertical-align: top;\n",
       "    }\n",
       "\n",
       "    .dataframe thead th {\n",
       "        text-align: right;\n",
       "    }\n",
       "</style>\n",
       "<table border=\"1\" class=\"dataframe\">\n",
       "  <thead>\n",
       "    <tr style=\"text-align: right;\">\n",
       "      <th></th>\n",
       "      <th>max_ratio</th>\n",
       "      <th>CLI</th>\n",
       "      <th>BCI</th>\n",
       "      <th>CCI</th>\n",
       "      <th>Employment Rate</th>\n",
       "      <th>CPI</th>\n",
       "      <th>LTI Rate</th>\n",
       "      <th>PPI</th>\n",
       "      <th>STI Rate</th>\n",
       "      <th>Unemployment Rate</th>\n",
       "    </tr>\n",
       "    <tr>\n",
       "      <th>Month</th>\n",
       "      <th></th>\n",
       "      <th></th>\n",
       "      <th></th>\n",
       "      <th></th>\n",
       "      <th></th>\n",
       "      <th></th>\n",
       "      <th></th>\n",
       "      <th></th>\n",
       "      <th></th>\n",
       "      <th></th>\n",
       "    </tr>\n",
       "  </thead>\n",
       "  <tbody>\n",
       "    <tr>\n",
       "      <th>2016-01-01</th>\n",
       "      <td>4.573529</td>\n",
       "      <td>0.02460</td>\n",
       "      <td>-0.31084</td>\n",
       "      <td>0.7940</td>\n",
       "      <td>-1.170</td>\n",
       "      <td>0.6907</td>\n",
       "      <td>2.32</td>\n",
       "      <td>1.58990</td>\n",
       "      <td>0.19</td>\n",
       "      <td>5.2</td>\n",
       "    </tr>\n",
       "    <tr>\n",
       "      <th>2016-02-01</th>\n",
       "      <td>5.147059</td>\n",
       "      <td>-0.16384</td>\n",
       "      <td>-0.51555</td>\n",
       "      <td>0.5875</td>\n",
       "      <td>-0.819</td>\n",
       "      <td>0.5481</td>\n",
       "      <td>2.17</td>\n",
       "      <td>0.78150</td>\n",
       "      <td>0.26</td>\n",
       "      <td>5.1</td>\n",
       "    </tr>\n",
       "    <tr>\n",
       "      <th>2016-03-01</th>\n",
       "      <td>5.036765</td>\n",
       "      <td>-0.34799</td>\n",
       "      <td>-0.73687</td>\n",
       "      <td>0.4014</td>\n",
       "      <td>-1.174</td>\n",
       "      <td>0.3915</td>\n",
       "      <td>2.17</td>\n",
       "      <td>-0.67368</td>\n",
       "      <td>0.27</td>\n",
       "      <td>5.0</td>\n",
       "    </tr>\n",
       "    <tr>\n",
       "      <th>2016-04-01</th>\n",
       "      <td>5.330882</td>\n",
       "      <td>-0.49780</td>\n",
       "      <td>-0.93738</td>\n",
       "      <td>0.4333</td>\n",
       "      <td>-0.754</td>\n",
       "      <td>0.3464</td>\n",
       "      <td>2.07</td>\n",
       "      <td>-0.99703</td>\n",
       "      <td>0.25</td>\n",
       "      <td>5.0</td>\n",
       "    </tr>\n",
       "    <tr>\n",
       "      <th>2016-05-01</th>\n",
       "      <td>4.926471</td>\n",
       "      <td>-0.62164</td>\n",
       "      <td>-1.09824</td>\n",
       "      <td>0.5603</td>\n",
       "      <td>-0.537</td>\n",
       "      <td>0.1346</td>\n",
       "      <td>2.26</td>\n",
       "      <td>-1.42818</td>\n",
       "      <td>0.30</td>\n",
       "      <td>5.1</td>\n",
       "    </tr>\n",
       "  </tbody>\n",
       "</table>\n",
       "</div>"
      ],
      "text/plain": [
       "            max_ratio      CLI      BCI     CCI  Employment Rate     CPI  \\\n",
       "Month                                                                      \n",
       "2016-01-01   4.573529  0.02460 -0.31084  0.7940           -1.170  0.6907   \n",
       "2016-02-01   5.147059 -0.16384 -0.51555  0.5875           -0.819  0.5481   \n",
       "2016-03-01   5.036765 -0.34799 -0.73687  0.4014           -1.174  0.3915   \n",
       "2016-04-01   5.330882 -0.49780 -0.93738  0.4333           -0.754  0.3464   \n",
       "2016-05-01   4.926471 -0.62164 -1.09824  0.5603           -0.537  0.1346   \n",
       "\n",
       "            LTI Rate      PPI  STI Rate  Unemployment Rate  \n",
       "Month                                                       \n",
       "2016-01-01      2.32  1.58990      0.19                5.2  \n",
       "2016-02-01      2.17  0.78150      0.26                5.1  \n",
       "2016-03-01      2.17 -0.67368      0.27                5.0  \n",
       "2016-04-01      2.07 -0.99703      0.25                5.0  \n",
       "2016-05-01      2.26 -1.42818      0.30                5.1  "
      ]
     },
     "execution_count": 4,
     "metadata": {},
     "output_type": "execute_result"
    }
   ],
   "source": [
    "# Get down to just the columns we need - this has extra Time Offset columns \n",
    "analysis6M = analysis6M.loc[:, ['Month', 'max_ratio', 'CLI', 'BCI', 'CCI', 'Employment Rate', 'CPI',\n",
    "       'LTI Rate', 'PPI', 'STI Rate', 'Unemployment Rate']]\n",
    "\n",
    "analysis6M.set_index('Month', inplace = True)\n",
    "\n",
    "analysis6M.head()"
   ]
  },
  {
   "cell_type": "code",
   "execution_count": 5,
   "id": "8a5b137d",
   "metadata": {},
   "outputs": [
    {
     "name": "stdout",
     "output_type": "stream",
     "text": [
      "X_train shape: (38, 9) | X_test shape: (10, 9)\n",
      "y_train mean: 5.39 | y_test mean: 5.16\n",
      "10 features: ['CLI', 'BCI', 'CCI', 'Employment Rate', 'CPI', 'LTI Rate', 'PPI', 'STI Rate', 'Unemployment Rate']\n"
     ]
    }
   ],
   "source": [
    "## split data\n",
    "dtf_train, dtf_test = model_selection.train_test_split(analysis6M, \n",
    "                      test_size=0.2)\n",
    "\n",
    "## print info\n",
    "print(\"X_train shape:\", dtf_train.drop(\"max_ratio\",axis=1).shape, \"| X_test shape:\", dtf_test.drop(\"max_ratio\",axis=1).shape)\n",
    "print(\"y_train mean:\", round(np.mean(dtf_train[\"max_ratio\"]),2), \"| y_test mean:\", round(np.mean(dtf_test[\"max_ratio\"]),2))\n",
    "print(dtf_train.shape[1], \"features:\", dtf_train.drop(\"max_ratio\",axis=1).columns.to_list())"
   ]
  },
  {
   "cell_type": "code",
   "execution_count": 6,
   "id": "cd59c63c",
   "metadata": {},
   "outputs": [
    {
     "data": {
      "text/html": [
       "<div>\n",
       "<style scoped>\n",
       "    .dataframe tbody tr th:only-of-type {\n",
       "        vertical-align: middle;\n",
       "    }\n",
       "\n",
       "    .dataframe tbody tr th {\n",
       "        vertical-align: top;\n",
       "    }\n",
       "\n",
       "    .dataframe thead th {\n",
       "        text-align: right;\n",
       "    }\n",
       "</style>\n",
       "<table border=\"1\" class=\"dataframe\">\n",
       "  <thead>\n",
       "    <tr style=\"text-align: right;\">\n",
       "      <th></th>\n",
       "      <th>CLI</th>\n",
       "      <th>BCI</th>\n",
       "      <th>CCI</th>\n",
       "      <th>Employment Rate</th>\n",
       "      <th>CPI</th>\n",
       "      <th>LTI Rate</th>\n",
       "      <th>PPI</th>\n",
       "      <th>STI Rate</th>\n",
       "      <th>Unemployment Rate</th>\n",
       "      <th>max_ratio</th>\n",
       "    </tr>\n",
       "    <tr>\n",
       "      <th>Month</th>\n",
       "      <th></th>\n",
       "      <th></th>\n",
       "      <th></th>\n",
       "      <th></th>\n",
       "      <th></th>\n",
       "      <th></th>\n",
       "      <th></th>\n",
       "      <th></th>\n",
       "      <th></th>\n",
       "      <th></th>\n",
       "    </tr>\n",
       "  </thead>\n",
       "  <tbody>\n",
       "    <tr>\n",
       "      <th>2017-07-01</th>\n",
       "      <td>-0.140932</td>\n",
       "      <td>-0.017789</td>\n",
       "      <td>0.177281</td>\n",
       "      <td>-0.357993</td>\n",
       "      <td>-0.231061</td>\n",
       "      <td>0.094787</td>\n",
       "      <td>-0.213815</td>\n",
       "      <td>-0.231834</td>\n",
       "      <td>0.457143</td>\n",
       "      <td>0.516224</td>\n",
       "    </tr>\n",
       "    <tr>\n",
       "      <th>2016-03-01</th>\n",
       "      <td>-0.306272</td>\n",
       "      <td>-0.878496</td>\n",
       "      <td>-1.233797</td>\n",
       "      <td>-1.218314</td>\n",
       "      <td>-0.702661</td>\n",
       "      <td>-0.398104</td>\n",
       "      <td>-0.329621</td>\n",
       "      <td>-0.667820</td>\n",
       "      <td>0.800000</td>\n",
       "      <td>-0.604720</td>\n",
       "    </tr>\n",
       "    <tr>\n",
       "      <th>2017-11-01</th>\n",
       "      <td>0.046838</td>\n",
       "      <td>-0.047129</td>\n",
       "      <td>-0.058063</td>\n",
       "      <td>-0.120797</td>\n",
       "      <td>-0.048555</td>\n",
       "      <td>-0.151659</td>\n",
       "      <td>-0.062368</td>\n",
       "      <td>-0.128028</td>\n",
       "      <td>0.114286</td>\n",
       "      <td>-0.575221</td>\n",
       "    </tr>\n",
       "    <tr>\n",
       "      <th>2018-07-01</th>\n",
       "      <td>0.794478</td>\n",
       "      <td>0.491367</td>\n",
       "      <td>0.166596</td>\n",
       "      <td>0.247543</td>\n",
       "      <td>0.253420</td>\n",
       "      <td>0.379147</td>\n",
       "      <td>0.409795</td>\n",
       "      <td>0.273356</td>\n",
       "      <td>-0.342857</td>\n",
       "      <td>0.539823</td>\n",
       "    </tr>\n",
       "    <tr>\n",
       "      <th>2019-03-01</th>\n",
       "      <td>0.682728</td>\n",
       "      <td>0.496076</td>\n",
       "      <td>0.365106</td>\n",
       "      <td>0.629591</td>\n",
       "      <td>0.693982</td>\n",
       "      <td>1.175355</td>\n",
       "      <td>0.971038</td>\n",
       "      <td>0.695502</td>\n",
       "      <td>-0.685714</td>\n",
       "      <td>0.044248</td>\n",
       "    </tr>\n",
       "  </tbody>\n",
       "</table>\n",
       "</div>"
      ],
      "text/plain": [
       "                 CLI       BCI       CCI  Employment Rate       CPI  LTI Rate  \\\n",
       "Month                                                                           \n",
       "2017-07-01 -0.140932 -0.017789  0.177281        -0.357993 -0.231061  0.094787   \n",
       "2016-03-01 -0.306272 -0.878496 -1.233797        -1.218314 -0.702661 -0.398104   \n",
       "2017-11-01  0.046838 -0.047129 -0.058063        -0.120797 -0.048555 -0.151659   \n",
       "2018-07-01  0.794478  0.491367  0.166596         0.247543  0.253420  0.379147   \n",
       "2019-03-01  0.682728  0.496076  0.365106         0.629591  0.693982  1.175355   \n",
       "\n",
       "                 PPI  STI Rate  Unemployment Rate  max_ratio  \n",
       "Month                                                         \n",
       "2017-07-01 -0.213815 -0.231834           0.457143   0.516224  \n",
       "2016-03-01 -0.329621 -0.667820           0.800000  -0.604720  \n",
       "2017-11-01 -0.062368 -0.128028           0.114286  -0.575221  \n",
       "2018-07-01  0.409795  0.273356          -0.342857   0.539823  \n",
       "2019-03-01  0.971038  0.695502          -0.685714   0.044248  "
      ]
     },
     "execution_count": 6,
     "metadata": {},
     "output_type": "execute_result"
    }
   ],
   "source": [
    "## scale X\n",
    "scalerX = preprocessing.RobustScaler(quantile_range=(25.0, 75.0))\n",
    "X = scalerX.fit_transform(dtf_train.drop(\"max_ratio\", axis=1))\n",
    "\n",
    "dtf_scaled= pd.DataFrame(X, columns=dtf_train.drop(\"max_ratio\", \n",
    "                        axis=1).columns, index=dtf_train.index)  \n",
    "\n",
    "## scale max_ratio\n",
    "scalerY = preprocessing.RobustScaler(quantile_range=(25.0, 75.0))\n",
    "dtf_scaled['max_ratio'] = scalerY.fit_transform(\n",
    "                    dtf_train['max_ratio'].values.reshape(-1,1))\n",
    "\n",
    "dtf_scaled.head()"
   ]
  },
  {
   "cell_type": "code",
   "execution_count": 7,
   "id": "5d26e2f5",
   "metadata": {},
   "outputs": [
    {
     "data": {
      "text/plain": [
       "<AxesSubplot:xlabel='selection', ylabel='features'>"
      ]
     },
     "execution_count": 7,
     "metadata": {},
     "output_type": "execute_result"
    },
    {
     "data": {
      "image/png": "[encoded data removed]",
      "text/plain": [
       "<Figure size 432x288 with 1 Axes>"
      ]
     },
     "metadata": {
      "needs_background": "light"
     },
     "output_type": "display_data"
    }
   ],
   "source": [
    "X = dtf_train.drop(\"max_ratio\", axis=1).values\n",
    "y = dtf_train[\"max_ratio\"].values\n",
    "feature_names = dtf_train.drop(\"max_ratio\", axis=1).columns\n",
    "\n",
    "## p-value\n",
    "selector = feature_selection.SelectKBest(score_func=  \n",
    "               feature_selection.f_regression, k=9).fit(X,y)\n",
    "pvalue_selected_features = feature_names[selector.get_support()]\n",
    "\n",
    "## regularization\n",
    "selector = feature_selection.SelectFromModel(estimator= \n",
    "              linear_model.Ridge(alpha=1.0, fit_intercept=True), \n",
    "                                 max_features=9).fit(X,y)\n",
    "regularization_selected_features = feature_names[selector.get_support()]\n",
    " \n",
    "## plot\n",
    "dtf_features = pd.DataFrame({\"features\":feature_names})\n",
    "dtf_features[\"p_value\"] = dtf_features[\"features\"].apply(lambda x: \"p_value\" if x in pvalue_selected_features else \"\")\n",
    "dtf_features[\"num1\"] = dtf_features[\"features\"].apply(lambda x: 1 if x in pvalue_selected_features else 0)\n",
    "dtf_features[\"regularization\"] = dtf_features[\"features\"].apply(lambda x: \"regularization\" if x in regularization_selected_features else \"\")\n",
    "dtf_features[\"num2\"] = dtf_features[\"features\"].apply(lambda x: 1 if x in regularization_selected_features else 0)\n",
    "dtf_features[\"method\"] = dtf_features[[\"p_value\",\"regularization\"]].apply(lambda x: (x[0]+\" \"+x[1]).strip(), axis=1)\n",
    "dtf_features[\"selection\"] = dtf_features[\"num1\"] + dtf_features[\"num2\"]\n",
    "dtf_features[\"method\"] = dtf_features[\"method\"].apply(lambda x: \"both\" if len(x.split()) == 2 else x)\n",
    "\n",
    "sns.barplot(y=\"features\", x=\"selection\", hue=\"method\", \n",
    "            data=dtf_features.sort_values(\"selection\", ascending=False), dodge=False)"
   ]
  },
  {
   "cell_type": "code",
   "execution_count": 8,
   "id": "b1b6bda4",
   "metadata": {},
   "outputs": [
    {
     "data": {
      "image/png": "[encoded data removed]",
      "text/plain": [
       "<Figure size 432x288 with 2 Axes>"
      ]
     },
     "metadata": {
      "needs_background": "light"
     },
     "output_type": "display_data"
    }
   ],
   "source": [
    "X = dtf_train.drop(\"max_ratio\", axis=1).values\n",
    "y = dtf_train[\"max_ratio\"].values\n",
    "feature_names = dtf_train.drop(\"max_ratio\", axis=1).columns.tolist()\n",
    "\n",
    "## call model\n",
    "model = ensemble.GradientBoostingRegressor()\n",
    "\n",
    "## Importance\n",
    "model.fit(X,y)\n",
    "importances = model.feature_importances_## Put in a pandas dtf\n",
    "dtf_importances = pd.DataFrame({\"IMPORTANCE\":importances, \n",
    "            \"VARIABLE\":feature_names}).sort_values(\"IMPORTANCE\", \n",
    "            ascending=False)\n",
    "dtf_importances['cumsum'] = dtf_importances['IMPORTANCE'].cumsum(axis=0)\n",
    "dtf_importances = dtf_importances.set_index(\"VARIABLE\")\n",
    "    \n",
    "## Plot\n",
    "fig, ax = plt.subplots(nrows=1, ncols=2, sharex=False, sharey=False)\n",
    "fig.suptitle(\"Features Importance\", fontsize=20)\n",
    "ax[0].title.set_text('variables')\n",
    "\n",
    "dtf_importances[[\"IMPORTANCE\"]].sort_values(by=\"IMPORTANCE\").plot(\n",
    "                kind=\"barh\", legend=False, ax=ax[0]).grid(axis=\"x\")\n",
    "ax[0].set(ylabel=\"\")\n",
    "ax[1].title.set_text('cumulative')\n",
    "dtf_importances[[\"cumsum\"]].plot(kind=\"line\", linewidth=4, \n",
    "                                 legend=False, ax=ax[1])\n",
    "ax[1].set(xlabel=\"\", xticks=np.arange(len(dtf_importances)), \n",
    "          xticklabels=dtf_importances.index)\n",
    "plt.xticks(rotation=70)\n",
    "plt.grid(axis='both')\n",
    "plt.show()"
   ]
  },
  {
   "cell_type": "code",
   "execution_count": 9,
   "id": "ee174db4",
   "metadata": {},
   "outputs": [],
   "source": [
    "# Okay, now we know what is worth keeping\n",
    "X_names = ['STI Rate', 'Employment Rate', 'CCI', 'CPI', 'LTI Rate']\n",
    "X_train = dtf_train[X_names].values\n",
    "y_train = dtf_train[\"max_ratio\"].values\n",
    "X_test = dtf_test[X_names].values\n",
    "y_test = dtf_test[\"max_ratio\"].values"
   ]
  },
  {
   "cell_type": "code",
   "execution_count": 10,
   "id": "5b895fb0",
   "metadata": {},
   "outputs": [
    {
     "data": {
      "image/png": "[encoded data removed]",
      "text/plain": [
       "<Figure size 432x288 with 1 Axes>"
      ]
     },
     "metadata": {
      "needs_background": "light"
     },
     "output_type": "display_data"
    }
   ],
   "source": [
    "## call model\n",
    "#model = linear_model.LinearRegression()## K fold validation\n",
    "model = ensemble.GradientBoostingRegressor()\n",
    "\n",
    "scores = []\n",
    "cv = model_selection.KFold(n_splits=5, shuffle=True)\n",
    "fig = plt.figure()\n",
    "i = 1\n",
    "for train, test in cv.split(X_train, y_train):\n",
    "    prediction = model.fit(X_train[train],\n",
    "                 y_train[train]).predict(X_train[test])\n",
    "    true = y_train[test]\n",
    "    score = metrics.r2_score(true, prediction)\n",
    "    scores.append(score)\n",
    "    plt.scatter(prediction, true, lw=2, alpha=0.3, \n",
    "                label='Fold %d (R2 = %0.2f)' % (i,score))\n",
    "    i = i+1\n",
    "plt.plot([min(y_train),max(y_train)], [min(y_train),max(y_train)], \n",
    "         linestyle='--', lw=2, color='black')\n",
    "plt.xlabel('Predicted')\n",
    "plt.ylabel('True')\n",
    "plt.title('K-Fold Validation')\n",
    "plt.legend()\n",
    "plt.show()"
   ]
  },
  {
   "cell_type": "code",
   "execution_count": 11,
   "id": "e14b4c41",
   "metadata": {},
   "outputs": [],
   "source": [
    "## train\n",
    "model.fit(X_train, y_train)\n",
    "## test\n",
    "predicted = model.predict(X_test)\n",
    "\n",
    "#predicted = scalerY.inverse_transform( \n",
    "#                  predicted.reshape(-1,1) ).reshape(-1)"
   ]
  },
  {
   "cell_type": "code",
   "execution_count": 12,
   "id": "3fed547b",
   "metadata": {},
   "outputs": [
    {
     "data": {
      "text/plain": [
       "array([4.72902559, 5.69143785, 5.07255915, 5.24202201, 5.1056323 ,\n",
       "       5.6319577 , 5.49014943, 5.53937365, 5.3950365 , 4.85390224])"
      ]
     },
     "execution_count": 12,
     "metadata": {},
     "output_type": "execute_result"
    }
   ],
   "source": [
    "predicted"
   ]
  },
  {
   "cell_type": "code",
   "execution_count": 13,
   "id": "93829d16",
   "metadata": {},
   "outputs": [
    {
     "data": {
      "text/plain": [
       "array([4.57352941, 5.60661765, 4.19117647, 5.14705882, 4.92647059,\n",
       "       5.97426471, 5.35294118, 5.56985294, 5.05882353, 5.17647059])"
      ]
     },
     "execution_count": 13,
     "metadata": {},
     "output_type": "execute_result"
    }
   ],
   "source": [
    "y_test"
   ]
  },
  {
   "cell_type": "code",
   "execution_count": 14,
   "id": "80b73c7d",
   "metadata": {},
   "outputs": [
    {
     "name": "stdout",
     "output_type": "stream",
     "text": [
      "R2 (explained variance): 0.5\n",
      "Mean Absolute Perc Error (Σ(|y-pred|/y)/n): 0.05\n",
      "Mean Absolute Error (Σ|y-pred|/n): 0\n",
      "Root Mean Squared Error (sqrt(Σ(y-pred)^2/n)): 0\n",
      "Max Error: -1\n"
     ]
    }
   ],
   "source": [
    "## Kpi\n",
    "print(\"R2 (explained variance):\", round(metrics.r2_score(y_test, predicted), 2))\n",
    "print(\"Mean Absolute Perc Error (Σ(|y-pred|/y)/n):\", round(np.mean(np.abs((y_test-predicted)/predicted)), 2))\n",
    "print(\"Mean Absolute Error (Σ|y-pred|/n):\", \"{:,.0f}\".format(metrics.mean_absolute_error(y_test, predicted)))\n",
    "print(\"Root Mean Squared Error (sqrt(Σ(y-pred)^2/n)):\", \"{:,.0f}\".format(np.sqrt(metrics.mean_squared_error(y_test, predicted))))\n",
    "\n",
    "## residuals\n",
    "residuals = y_test - predicted\n",
    "max_error = max(residuals) if abs(max(residuals)) > abs(min(residuals)) else min(residuals)\n",
    "max_idx = list(residuals).index(max(residuals)) if abs(max(residuals)) > abs(min(residuals)) else list(residuals).index(min(residuals))\n",
    "max_true, max_pred = y_test[max_idx], predicted[max_idx]\n",
    "print(\"Max Error:\", \"{:,.0f}\".format(max_error))"
   ]
  },
  {
   "cell_type": "code",
   "execution_count": 15,
   "id": "ec6154ea",
   "metadata": {},
   "outputs": [
    {
     "data": {
      "image/png": "[encoded data removed]",
      "text/plain": [
       "<Figure size 432x288 with 2 Axes>"
      ]
     },
     "metadata": {
      "needs_background": "light"
     },
     "output_type": "display_data"
    }
   ],
   "source": [
    "## Plot predicted vs true\n",
    "fig, ax = plt.subplots(nrows=1, ncols=2)\n",
    "from statsmodels.graphics.api import abline_plot\n",
    "ax[0].scatter(predicted, y_test, color=\"black\")\n",
    "#abline_plot(intercept=0, slope=1, color=\"red\", ax=ax[0])\n",
    "ax[0].vlines(x=max_pred, ymin=max_true, ymax=max_true-max_error, color='red', linestyle='--', alpha=0.7, label=\"max error\")\n",
    "ax[0].grid(True)\n",
    "ax[0].set(xlabel=\"Predicted\", ylabel=\"True\", title=\"Predicted vs True\")\n",
    "ax[0].legend()\n",
    "    \n",
    "## Plot predicted vs residuals\n",
    "ax[1].scatter(predicted, residuals, color=\"red\")\n",
    "ax[1].vlines(x=max_pred, ymin=0, ymax=max_error, color='black', linestyle='--', alpha=0.7, label=\"max error\")\n",
    "ax[1].grid(True)\n",
    "ax[1].set(xlabel=\"Predicted\", ylabel=\"Residuals\", title=\"Predicted vs Residuals\")\n",
    "ax[1].hlines(y=0, xmin=np.min(predicted), xmax=np.max(predicted))\n",
    "ax[1].legend()\n",
    "plt.show()"
   ]
  },
  {
   "cell_type": "code",
   "execution_count": 16,
   "id": "b503363a",
   "metadata": {},
   "outputs": [
    {
     "data": {
      "text/plain": [
       "array([4.84250969])"
      ]
     },
     "execution_count": 16,
     "metadata": {},
     "output_type": "execute_result"
    }
   ],
   "source": [
    "###### GENERATE PREDICTIONS\n",
    "current = pd.read_csv('OECD input data - monthly Jan 2018 onward.csv')\n",
    "current.set_index('TIME', inplace = True)\n",
    "# current.head()\n",
    "\n",
    "inPredict = current[len(current)-1:len(current)]\n",
    "inPredict = inPredict[X_names].values\n",
    "inPredict\n",
    "\n",
    "outPredict = model.predict(inPredict)\n",
    "outPredict\n"
   ]
  },
  {
   "cell_type": "code",
   "execution_count": null,
   "id": "1bba1c52",
   "metadata": {},
   "outputs": [],
   "source": []
  }
 ],
 "metadata": {
  "kernelspec": {
   "display_name": "Python 3 (ipykernel)",
   "language": "python",
   "name": "python3"
  },
  "language_info": {
   "codemirror_mode": {
    "name": "ipython",
    "version": 3
   },
   "file_extension": ".py",
   "mimetype": "text/x-python",
   "name": "python",
   "nbconvert_exporter": "python",
   "pygments_lexer": "ipython3",
   "version": "3.10.4"
  }
 },
 "nbformat": 4,
 "nbformat_minor": 5
}
